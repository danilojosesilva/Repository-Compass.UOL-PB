{
 "cells": [
  {
   "cell_type": "code",
   "execution_count": 3,
   "id": "8f76aad2",
   "metadata": {},
   "outputs": [
    {
     "name": "stdout",
     "output_type": "stream",
     "text": [
      "Digite seu nome: Danilo\n",
      "Digite sua idade: 36\n",
      "2087\n"
     ]
    }
   ],
   "source": [
    "# Lê o nome e a idade da pessoa do teclado\n",
    "nome = input(\"Digite seu nome: \")\n",
    "\n",
    "idade = int(input(\"Digite sua idade: \"))\n",
    "\n",
    "# Calcula o ano em que a pessoa completará 100 anos\n",
    "ano_atual = 2023 # Pode ser alterado para o ano atual\n",
    "\n",
    "ano_100 = ano_atual + (100 - idade)\n",
    "\n",
    "# Imprime o resultado\n",
    "print(ano_100)"
   ]
  },
  {
   "cell_type": "code",
   "execution_count": null,
   "id": "957f3553",
   "metadata": {},
   "outputs": [],
   "source": []
  }
 ],
 "metadata": {
  "kernelspec": {
   "display_name": "Python 3 (ipykernel)",
   "language": "python",
   "name": "python3"
  },
  "language_info": {
   "codemirror_mode": {
    "name": "ipython",
    "version": 3
   },
   "file_extension": ".py",
   "mimetype": "text/x-python",
   "name": "python",
   "nbconvert_exporter": "python",
   "pygments_lexer": "ipython3",
   "version": "3.9.13"
  }
 },
 "nbformat": 4,
 "nbformat_minor": 5
}
