{
 "cells": [
  {
   "cell_type": "code",
   "execution_count": 1,
   "id": "b2d5d99a",
   "metadata": {},
   "outputs": [
    {
     "name": "stdout",
     "output_type": "stream",
     "text": [
      "Este código está sendo executado no jupyter!!!!!!!\n"
     ]
    }
   ],
   "source": [
    "print('Este código está sendo executado no jupyter!!!!!!!')"
   ]
  },
  {
   "cell_type": "code",
   "execution_count": 2,
   "id": "198958dd",
   "metadata": {},
   "outputs": [
    {
     "name": "stdout",
     "output_type": "stream",
     "text": [
      "inteiro: 10, decimal: 1.3, booleano: True, nulo: None\n"
     ]
    }
   ],
   "source": [
    "inteiro = 10\n",
    "decimal = 1.3\n",
    "booleano = True\n",
    "nulo = None\n",
    "\n",
    "print(f'inteiro: {inteiro}, decimal: {decimal}, booleano: {booleano}, nulo: {nulo}')"
   ]
  },
  {
   "cell_type": "code",
   "execution_count": 3,
   "id": "92612d9c",
   "metadata": {},
   "outputs": [
    {
     "name": "stdout",
     "output_type": "stream",
     "text": [
      "inteiro: 10, decimal: 1.3, booleano: True, nulo: None\n"
     ]
    }
   ],
   "source": [
    "inteiro = 10\n",
    "decimal = 1.3\n",
    "booleano = True\n",
    "nulo = None\n",
    "\n",
    "print('inteiro: {}, decimal: {}, booleano: {}, nulo: {}'.format(inteiro, decimal, booleano, nulo))"
   ]
  },
  {
   "cell_type": "code",
   "execution_count": 4,
   "id": "47f5829f",
   "metadata": {},
   "outputs": [
    {
     "name": "stdout",
     "output_type": "stream",
     "text": [
      "11 10\n"
     ]
    }
   ],
   "source": [
    "inteiro = int ('10') + 1\n",
    "string = str(10)\n",
    "print(inteiro, string)"
   ]
  },
  {
   "cell_type": "code",
   "execution_count": 5,
   "id": "107abef1",
   "metadata": {},
   "outputs": [
    {
     "name": "stdout",
     "output_type": "stream",
     "text": [
      "Enter your name: Danilo\n",
      "Are you really Danilo ?\n"
     ]
    }
   ],
   "source": [
    "name = input('Enter your name: ')\n",
    "print('Are you really', name, '?')"
   ]
  },
  {
   "cell_type": "code",
   "execution_count": 7,
   "id": "00e32442",
   "metadata": {},
   "outputs": [
    {
     "name": "stdout",
     "output_type": "stream",
     "text": [
      "a\n"
     ]
    },
    {
     "ename": "TypeError",
     "evalue": "'str' object does not support item assignment",
     "output_type": "error",
     "traceback": [
      "\u001b[1;31m---------------------------------------------------------------------------\u001b[0m",
      "\u001b[1;31mTypeError\u001b[0m                                 Traceback (most recent call last)",
      "\u001b[1;32m~\\AppData\\Local\\Temp\\ipykernel_15184\\3118429764.py\u001b[0m in \u001b[0;36m<module>\u001b[1;34m\u001b[0m\n\u001b[0;32m      1\u001b[0m \u001b[0mstring\u001b[0m \u001b[1;33m=\u001b[0m \u001b[1;34m'abc'\u001b[0m\u001b[1;33m\u001b[0m\u001b[1;33m\u001b[0m\u001b[0m\n\u001b[0;32m      2\u001b[0m \u001b[0mprint\u001b[0m\u001b[1;33m(\u001b[0m\u001b[0mstring\u001b[0m\u001b[1;33m[\u001b[0m\u001b[1;36m0\u001b[0m\u001b[1;33m]\u001b[0m\u001b[1;33m)\u001b[0m\u001b[1;33m\u001b[0m\u001b[1;33m\u001b[0m\u001b[0m\n\u001b[1;32m----> 3\u001b[1;33m \u001b[0mstring\u001b[0m\u001b[1;33m[\u001b[0m\u001b[1;36m0\u001b[0m\u001b[1;33m]\u001b[0m \u001b[1;33m=\u001b[0m \u001b[1;34m'b'\u001b[0m\u001b[1;33m\u001b[0m\u001b[1;33m\u001b[0m\u001b[0m\n\u001b[0m",
      "\u001b[1;31mTypeError\u001b[0m: 'str' object does not support item assignment"
     ]
    }
   ],
   "source": [
    "string = 'abc'\n",
    "print(string[0])\n",
    "string[0] = 'b'"
   ]
  },
  {
   "cell_type": "code",
   "execution_count": 8,
   "id": "55c13752",
   "metadata": {},
   "outputs": [
    {
     "name": "stdout",
     "output_type": "stream",
     "text": [
      "4\n",
      "2\n",
      "5\n",
      "[1, 2]\n",
      "a\n"
     ]
    }
   ],
   "source": [
    "a_list = []\n",
    "L = [2, 'a', 4, [1,2]]\n",
    "print(len(L)) #avalia para 4\n",
    "print(L[0])   #avalia para 2\n",
    "print(L[2]+1) #avalia para 5\n",
    "print(L[3])   #avalia para [1,2], outra lista!\n",
    "i=2 #\n",
    "print(L[i-1]) #avalia para 'a' já que L[1] = 'a' acima"
   ]
  },
  {
   "cell_type": "code",
   "execution_count": 9,
   "id": "38523f40",
   "metadata": {},
   "outputs": [
    {
     "name": "stdout",
     "output_type": "stream",
     "text": [
      "[1, 2, 3, 4, 5, 6]\n",
      "[1, 2, 3, 4, 5, 6, 7]\n"
     ]
    }
   ],
   "source": [
    "a = [1, 2, 3]\n",
    "b = [4, 5, 6]\n",
    "a.extend(b)\n",
    "print(a)\n",
    "a.append(7)\n",
    "print(a)"
   ]
  },
  {
   "cell_type": "code",
   "execution_count": 10,
   "id": "523f7fd2",
   "metadata": {},
   "outputs": [
    {
     "name": "stdout",
     "output_type": "stream",
     "text": [
      "[0, 1, 2, 3, 4]\n",
      "[0, 1, 2, 3, 4]\n",
      "[2, 3, 4]\n",
      "[0, 1]\n",
      "[2, 3]\n",
      "[0, 1, 2, 3]\n",
      "[0, 1, 8, 9, 4]\n"
     ]
    }
   ],
   "source": [
    "nums = list(range(5))\n",
    "\n",
    "print(nums)\n",
    "\n",
    "print(nums[:]) # do início ao fim\n",
    "\n",
    "print(nums[2:]) # do 2o (incluso) até o fim\n",
    "\n",
    "print(nums[:2]) # do início ao 2o (excluso)\n",
    "\n",
    "print(nums[2:4]) # do 2o (incluso) ao 4o (excluso)\n",
    "\n",
    "print(nums[:-1]) # do início ao último (excluso)\n",
    "\n",
    "nums[2:4] = [8, 9] # atribuição\n",
    "\n",
    "print(nums)"
   ]
  },
  {
   "cell_type": "code",
   "execution_count": 12,
   "id": "84aa5148",
   "metadata": {},
   "outputs": [
    {
     "name": "stdout",
     "output_type": "stream",
     "text": [
      "[1, 4, 9]\n"
     ]
    }
   ],
   "source": [
    "mixed = [1, 2, 'a', 3, 4.0]\n",
    "\n",
    "mixed = [x**2 for x in mixed if type(x) == int]\n",
    "\n",
    "print(mixed)"
   ]
  },
  {
   "cell_type": "code",
   "execution_count": 13,
   "id": "c347fd6b",
   "metadata": {},
   "outputs": [
    {
     "name": "stdout",
     "output_type": "stream",
     "text": [
      "['ba', 'na', 'na']\n"
     ]
    }
   ],
   "source": [
    "lista = ['b', 'n', 'n']\n",
    "\n",
    "lista1 = list(map(lambda x: x + 'a', lista))\n",
    "\n",
    "print(lista1)"
   ]
  },
  {
   "cell_type": "code",
   "execution_count": 14,
   "id": "f3977797",
   "metadata": {},
   "outputs": [
    {
     "ename": "TypeError",
     "evalue": "'<' not supported between instances of 'str' and 'int'",
     "output_type": "error",
     "traceback": [
      "\u001b[1;31m---------------------------------------------------------------------------\u001b[0m",
      "\u001b[1;31mTypeError\u001b[0m                                 Traceback (most recent call last)",
      "\u001b[1;32m~\\AppData\\Local\\Temp\\ipykernel_15184\\1349391428.py\u001b[0m in \u001b[0;36m<module>\u001b[1;34m\u001b[0m\n\u001b[0;32m      1\u001b[0m \u001b[0ml\u001b[0m \u001b[1;33m=\u001b[0m \u001b[1;33m[\u001b[0m\u001b[1;36m3\u001b[0m\u001b[1;33m,\u001b[0m \u001b[1;34m'a'\u001b[0m\u001b[1;33m,\u001b[0m \u001b[1;36m4\u001b[0m\u001b[1;33m,\u001b[0m \u001b[1;34m'b'\u001b[0m\u001b[1;33m,\u001b[0m \u001b[1;36m1\u001b[0m\u001b[1;33m,\u001b[0m \u001b[1;36m4\u001b[0m\u001b[1;33m,\u001b[0m \u001b[1;36m3\u001b[0m\u001b[1;33m]\u001b[0m\u001b[1;33m\u001b[0m\u001b[1;33m\u001b[0m\u001b[0m\n\u001b[1;32m----> 2\u001b[1;33m \u001b[0ml\u001b[0m\u001b[1;33m.\u001b[0m\u001b[0msort\u001b[0m\u001b[1;33m(\u001b[0m\u001b[1;33m)\u001b[0m\u001b[1;33m\u001b[0m\u001b[1;33m\u001b[0m\u001b[0m\n\u001b[0m\u001b[0;32m      3\u001b[0m \u001b[0mprint\u001b[0m\u001b[1;33m(\u001b[0m\u001b[0ml\u001b[0m\u001b[1;33m)\u001b[0m\u001b[1;33m\u001b[0m\u001b[1;33m\u001b[0m\u001b[0m\n",
      "\u001b[1;31mTypeError\u001b[0m: '<' not supported between instances of 'str' and 'int'"
     ]
    }
   ],
   "source": [
    "l = [3, 'a', 4, 'b', 1, 4, 3]\n",
    "l.sort()\n",
    "print(l)"
   ]
  },
  {
   "cell_type": "code",
   "execution_count": 15,
   "id": "a7f0f5f4",
   "metadata": {},
   "outputs": [
    {
     "name": "stdout",
     "output_type": "stream",
     "text": [
      "1 4\n",
      "2 5\n",
      "3 6\n"
     ]
    }
   ],
   "source": [
    "x = [1, 2, 3]\n",
    "y = [4, 5, 6]\n",
    "\n",
    "for i, j in zip(x, y):\n",
    "    print(i, j)"
   ]
  },
  {
   "cell_type": "code",
   "execution_count": 16,
   "id": "fdc0bebf",
   "metadata": {},
   "outputs": [
    {
     "name": "stdout",
     "output_type": "stream",
     "text": [
      "[(0, 'Spring'), (1, 'Summer'), (2, 'Fall'), (3, 'Winter')]\n"
     ]
    }
   ],
   "source": [
    "seasons = ['Spring', 'Summer', 'Fall', 'Winter']\n",
    "tuples = list(enumerate(seasons))\n",
    "\n",
    "print(tuples)"
   ]
  },
  {
   "cell_type": "code",
   "execution_count": 17,
   "id": "0c65854a",
   "metadata": {},
   "outputs": [
    {
     "name": "stdout",
     "output_type": "stream",
     "text": [
      "0 Spring\n",
      "1 Summer\n",
      "2 Fall\n",
      "3 Winter\n"
     ]
    }
   ],
   "source": [
    "seasons = ['Spring', 'Summer', 'Fall', 'Winter']\n",
    "for i, season in enumerate(seasons):\n",
    "    print(i, season)"
   ]
  },
  {
   "cell_type": "code",
   "execution_count": 18,
   "id": "e9718589",
   "metadata": {},
   "outputs": [],
   "source": [
    "a = {1, 2, 3}\n",
    "b = set([3, 4, 5])"
   ]
  },
  {
   "cell_type": "code",
   "execution_count": 19,
   "id": "81897bc3",
   "metadata": {},
   "outputs": [
    {
     "data": {
      "text/plain": [
       "3"
      ]
     },
     "execution_count": 19,
     "metadata": {},
     "output_type": "execute_result"
    }
   ],
   "source": [
    "len(a)"
   ]
  },
  {
   "cell_type": "code",
   "execution_count": 21,
   "id": "8ed20f2a",
   "metadata": {},
   "outputs": [
    {
     "data": {
      "text/plain": [
       "True"
      ]
     },
     "execution_count": 21,
     "metadata": {},
     "output_type": "execute_result"
    }
   ],
   "source": [
    "1 in a"
   ]
  },
  {
   "cell_type": "code",
   "execution_count": 22,
   "id": "6e78f12b",
   "metadata": {},
   "outputs": [
    {
     "data": {
      "text/plain": [
       "{1, 2, 4, 5}"
      ]
     },
     "execution_count": 22,
     "metadata": {},
     "output_type": "execute_result"
    }
   ],
   "source": [
    "a ^ b"
   ]
  },
  {
   "cell_type": "code",
   "execution_count": 23,
   "id": "fc6ebcdf",
   "metadata": {},
   "outputs": [
    {
     "data": {
      "text/plain": [
       "{1, 2, 3, 4, 5}"
      ]
     },
     "execution_count": 23,
     "metadata": {},
     "output_type": "execute_result"
    }
   ],
   "source": [
    "a | b"
   ]
  },
  {
   "cell_type": "code",
   "execution_count": 24,
   "id": "783f88f0",
   "metadata": {},
   "outputs": [
    {
     "data": {
      "text/plain": [
       "{1, 2}"
      ]
     },
     "execution_count": 24,
     "metadata": {},
     "output_type": "execute_result"
    }
   ],
   "source": [
    "a - b"
   ]
  },
  {
   "cell_type": "code",
   "execution_count": 25,
   "id": "3266b67d",
   "metadata": {},
   "outputs": [],
   "source": [
    "a = {1, 2, 3}\n",
    "b = set([3, 4, 5])"
   ]
  },
  {
   "cell_type": "code",
   "execution_count": 28,
   "id": "a0c64e9d",
   "metadata": {},
   "outputs": [],
   "source": [
    "c = {1, 2}"
   ]
  },
  {
   "cell_type": "code",
   "execution_count": 30,
   "id": "ce07e1b1",
   "metadata": {},
   "outputs": [
    {
     "data": {
      "text/plain": [
       "True"
      ]
     },
     "execution_count": 30,
     "metadata": {},
     "output_type": "execute_result"
    }
   ],
   "source": [
    "a.issuperset(c)"
   ]
  },
  {
   "cell_type": "code",
   "execution_count": 38,
   "id": "aeff15ad",
   "metadata": {},
   "outputs": [
    {
     "data": {
      "text/plain": [
       "{3}"
      ]
     },
     "execution_count": 38,
     "metadata": {},
     "output_type": "execute_result"
    }
   ],
   "source": [
    "b.intersection(a)"
   ]
  },
  {
   "cell_type": "code",
   "execution_count": 39,
   "id": "02232ce2",
   "metadata": {},
   "outputs": [],
   "source": [
    "a = {1, 2, 3}\n",
    "b = set([3, 4, 5])\n",
    "c = {1, 2}"
   ]
  },
  {
   "cell_type": "code",
   "execution_count": 40,
   "id": "c5e44bc1",
   "metadata": {},
   "outputs": [
    {
     "data": {
      "text/plain": [
       "True"
      ]
     },
     "execution_count": 40,
     "metadata": {},
     "output_type": "execute_result"
    }
   ],
   "source": [
    "c.issubset(a)"
   ]
  },
  {
   "cell_type": "code",
   "execution_count": 41,
   "id": "e375d3a5",
   "metadata": {},
   "outputs": [],
   "source": [
    "d = {'camila': 21, 'roberto': 53, 'carla': 66}"
   ]
  },
  {
   "cell_type": "code",
   "execution_count": 43,
   "id": "20490d48",
   "metadata": {},
   "outputs": [
    {
     "data": {
      "text/plain": [
       "21"
      ]
     },
     "execution_count": 43,
     "metadata": {},
     "output_type": "execute_result"
    }
   ],
   "source": [
    "d['camila']"
   ]
  },
  {
   "cell_type": "code",
   "execution_count": 44,
   "id": "e4757bb7",
   "metadata": {},
   "outputs": [],
   "source": [
    "# print d[21]  #resultará em um erro"
   ]
  },
  {
   "cell_type": "code",
   "execution_count": 45,
   "id": "b3291e1a",
   "metadata": {},
   "outputs": [
    {
     "data": {
      "text/plain": [
       "True"
      ]
     },
     "execution_count": 45,
     "metadata": {},
     "output_type": "execute_result"
    }
   ],
   "source": [
    "'camila' in d"
   ]
  },
  {
   "cell_type": "code",
   "execution_count": 46,
   "id": "6663d679",
   "metadata": {},
   "outputs": [
    {
     "name": "stdout",
     "output_type": "stream",
     "text": [
      "chave camila \tvalor: 21\n",
      "chave roberto \tvalor: 53\n",
      "chave carla \tvalor: 66\n"
     ]
    }
   ],
   "source": [
    "for key, value in d.items():\n",
    "    print('chave', key, '\\tvalor:', value)"
   ]
  },
  {
   "cell_type": "code",
   "execution_count": 47,
   "id": "798b7c8e",
   "metadata": {},
   "outputs": [
    {
     "name": "stdout",
     "output_type": "stream",
     "text": [
      "[1, 2, 3]\n",
      "[1, 2, 3]\n",
      "[0.0, 0.5, 1.0]\n",
      "[0.0, 0.5, 1.0]\n"
     ]
    }
   ],
   "source": [
    "def func(a, norm=False):\n",
    "    if norm: \n",
    "        return [(x - min(a))/ (max(a) - min(a)) for x in a]\n",
    "    else: \n",
    "        return a\n",
    "    \n",
    "a = [1, 2, 3]\n",
    "print(func(a))\n",
    "print(func(a, False))\n",
    "print(func(a, True))\n",
    "print(func(a, norm=True))"
   ]
  },
  {
   "cell_type": "code",
   "execution_count": 48,
   "id": "ef3342d6",
   "metadata": {},
   "outputs": [
    {
     "name": "stdout",
     "output_type": "stream",
     "text": [
      "(1, 2, 3, 'a', ['b, c'], 6.3)\n",
      "1\n",
      "2\n",
      "3\n",
      "a\n",
      "['b, c']\n",
      "6.3\n"
     ]
    }
   ],
   "source": [
    "def func(*args):\n",
    "    print(args)\n",
    "    for item in args:\n",
    "        print(item)\n",
    "func(1, 2, 3, 'a', ['b, c'], 6.3)"
   ]
  },
  {
   "cell_type": "code",
   "execution_count": 49,
   "id": "dfc779c2",
   "metadata": {},
   "outputs": [
    {
     "name": "stdout",
     "output_type": "stream",
     "text": [
      "a: hello, b: 3, c: 1.7\n"
     ]
    }
   ],
   "source": [
    "def func(a, b, c):\n",
    "    print(f'a: {a}, b: {b}, c: {c}')\n",
    "    \n",
    "minha_lista = ['hello', 3, 1.7]\n",
    "func(*minha_lista)"
   ]
  },
  {
   "cell_type": "code",
   "execution_count": 50,
   "id": "42945797",
   "metadata": {},
   "outputs": [
    {
     "name": "stdout",
     "output_type": "stream",
     "text": [
      "10\n",
      "param1 10\n",
      "param2 hello\n",
      "x 6.3\n"
     ]
    }
   ],
   "source": [
    "def func(*args, **kwargs):\n",
    "    for item in args:\n",
    "        print(item)\n",
    "    for key, value in kwargs.items():\n",
    "        print(key, value)\n",
    "# func(10) error\n",
    "func(10, param1=10, param2='hello', x=6.3)"
   ]
  },
  {
   "cell_type": "code",
   "execution_count": 51,
   "id": "0a6d4a46",
   "metadata": {},
   "outputs": [
    {
     "name": "stdout",
     "output_type": "stream",
     "text": [
      "a: 10, b: hello, c: 1.7\n"
     ]
    }
   ],
   "source": [
    "def func(a, b, c): \n",
    "    print('a: {}, b: {}, c: {}'.format(a, b, c))\n",
    "\n",
    "params = {'a': 10, 'b': 'hello', 'c': 1.7}\n",
    "func(**params) # é equivalente a func(a=params['a'], b=params['b'], c=params['c'])"
   ]
  },
  {
   "cell_type": "code",
   "execution_count": 52,
   "id": "4d647c62",
   "metadata": {},
   "outputs": [
    {
     "name": "stdout",
     "output_type": "stream",
     "text": [
      "4 27 256\n"
     ]
    }
   ],
   "source": [
    "def func(a, b, c): \n",
    "    return a**2, b**3, c**4\n",
    "\n",
    "a, b, c = func(2, 3, 4)\n",
    "print(a, b, c)"
   ]
  },
  {
   "cell_type": "code",
   "execution_count": 55,
   "id": "1f0c69cd",
   "metadata": {},
   "outputs": [
    {
     "name": "stdout",
     "output_type": "stream",
     "text": [
      "1 2 4\n"
     ]
    }
   ],
   "source": [
    "a = [1, 2, 4]\n",
    "b, c, d = a\n",
    "print(b, c, d)"
   ]
  },
  {
   "cell_type": "code",
   "execution_count": 56,
   "id": "eeddd194",
   "metadata": {},
   "outputs": [
    {
     "name": "stdout",
     "output_type": "stream",
     "text": [
      "1\n",
      "2\n",
      "3\n"
     ]
    }
   ],
   "source": [
    "def my_func(some_list: list):\n",
    "    for p in some_list:\n",
    "        print(p)\n",
    "\n",
    "a = [1, 2, 3]\n",
    "my_func(a)"
   ]
  },
  {
   "cell_type": "code",
   "execution_count": 57,
   "id": "50250316",
   "metadata": {},
   "outputs": [
    {
     "data": {
      "text/plain": [
       "[1, 4, 9]"
      ]
     },
     "execution_count": 57,
     "metadata": {},
     "output_type": "execute_result"
    }
   ],
   "source": [
    "def my_func(some_list: list) -> list:\n",
    "    for i in range(len(some_list)):\n",
    "        some_list[i] **= 2 #eleva cada membro da lista ao quadrado\n",
    "    return some_list\n",
    "\n",
    "a = [1, 2, 3]\n",
    "my_func(a)"
   ]
  },
  {
   "cell_type": "code",
   "execution_count": 58,
   "id": "2bc8dc14",
   "metadata": {},
   "outputs": [
    {
     "name": "stdout",
     "output_type": "stream",
     "text": [
      "2\n",
      "3\n",
      "4\n",
      "5\n",
      "6\n",
      "7\n",
      "8\n",
      "9\n",
      "10\n"
     ]
    }
   ],
   "source": [
    "def addOne(n):\n",
    "    return n+1\n",
    "\n",
    "def applyToEach(maxN, f):\n",
    "    for i in range(1, maxN):\n",
    "        print(f(i))\n",
    "        \n",
    "applyToEach(10, addOne)"
   ]
  },
  {
   "cell_type": "code",
   "execution_count": 59,
   "id": "e8dbe102",
   "metadata": {},
   "outputs": [
    {
     "data": {
      "text/plain": [
       "12.25"
      ]
     },
     "execution_count": 59,
     "metadata": {},
     "output_type": "execute_result"
    }
   ],
   "source": [
    "def f(x):\n",
    "    return x**2\n",
    "func = f\n",
    "func(3.5)"
   ]
  },
  {
   "cell_type": "code",
   "execution_count": null,
   "id": "6d219c0a",
   "metadata": {},
   "outputs": [],
   "source": []
  }
 ],
 "metadata": {
  "kernelspec": {
   "display_name": "Python 3 (ipykernel)",
   "language": "python",
   "name": "python3"
  },
  "language_info": {
   "codemirror_mode": {
    "name": "ipython",
    "version": 3
   },
   "file_extension": ".py",
   "mimetype": "text/x-python",
   "name": "python",
   "nbconvert_exporter": "python",
   "pygments_lexer": "ipython3",
   "version": "3.9.13"
  }
 },
 "nbformat": 4,
 "nbformat_minor": 5
}
