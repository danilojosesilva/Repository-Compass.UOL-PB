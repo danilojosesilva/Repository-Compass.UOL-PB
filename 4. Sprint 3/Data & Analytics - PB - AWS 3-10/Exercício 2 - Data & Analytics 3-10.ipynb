{
 "cells": [
  {
   "cell_type": "code",
   "execution_count": 1,
   "id": "995e21b0",
   "metadata": {},
   "outputs": [
    {
     "name": "stdout",
     "output_type": "stream",
     "text": [
      "Digite o 1° número: 1\n",
      "Digite o 2° número: 3\n",
      "Digite o 3° número: 4\n",
      "Ímpar: 1\n",
      "Ímpar: 3\n",
      "Par: 4\n"
     ]
    }
   ],
   "source": [
    "# Lê os números do teclado\n",
    "numeros = []\n",
    "for i in range(3):\n",
    "    numero = int(input(\"Digite o {}° número: \".format(i+1)))\n",
    "    numeros.append(numero)\n",
    "\n",
    "# Verifica se cada número é par ou ímpar e imprime o resultado\n",
    "for numero in numeros:\n",
    "    if numero % 2 == 0:\n",
    "        print(\"Par: {}\".format(numero))\n",
    "    else:\n",
    "        print(\"Ímpar: {}\".format(numero))\n"
   ]
  },
  {
   "cell_type": "code",
   "execution_count": null,
   "id": "1aeb35a3",
   "metadata": {},
   "outputs": [],
   "source": []
  }
 ],
 "metadata": {
  "kernelspec": {
   "display_name": "Python 3 (ipykernel)",
   "language": "python",
   "name": "python3"
  },
  "language_info": {
   "codemirror_mode": {
    "name": "ipython",
    "version": 3
   },
   "file_extension": ".py",
   "mimetype": "text/x-python",
   "name": "python",
   "nbconvert_exporter": "python",
   "pygments_lexer": "ipython3",
   "version": "3.9.13"
  }
 },
 "nbformat": 4,
 "nbformat_minor": 5
}
